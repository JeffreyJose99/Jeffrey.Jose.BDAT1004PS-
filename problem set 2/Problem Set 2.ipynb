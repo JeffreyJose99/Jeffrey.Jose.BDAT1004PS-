{
 "cells": [
  {
   "cell_type": "markdown",
   "id": "a351c429",
   "metadata": {},
   "source": [
    "# Question 1\n",
    "\n",
    "<br></br>\n",
    "Consider the following Python module:\n",
    "<br></br>\n",
    "<p>a = 0</p>\n",
    "<p>def b():</p>\n",
    "<p> global a</p>\n",
    "<p> a = c(a)</p>\n",
    "<p>def c(a):</p>\n",
    "<p>return a + 2</p>\n",
    "<br></br>\n",
    "After importing the module into the interpreter, you execute:\n",
    "<br></br>\n",
    "<p>>>> b()</p>\n",
    "<p>>>> b()</p>\n",
    "<p>>>> b()</p>\n",
    "<p>>>> a</p>\n",
    "<p>?</p>\n",
    "<br></br>\n",
    "What value is displayed when the last expression (a) is evaluated? Explain your\n",
    "answer by indicating what happens in every executed statement.\n",
    "\n"
   ]
  },
  {
   "cell_type": "code",
   "execution_count": null,
   "id": "6e1d3e07",
   "metadata": {},
   "outputs": [],
   "source": [
    "a = 0\n",
    "In first b() a= 0+2 i.e 2\n",
    "In second b() a= 2+2 i.e 4\n",
    "In third b() a= 4+2 i.e 6\n",
    "So Output will be 6"
   ]
  },
  {
   "cell_type": "markdown",
   "id": "997662e0",
   "metadata": {},
   "source": [
    "# Question 2\n",
    "<br></br>\n",
    "Function fileLength(), given to you, takes the name of a file as input and returns\n",
    "the length of the file:\n",
    "<br></br>\n",
    "<p>>>> fileLength('midterm.py')</p>\n",
    "<p>284</p>\n",
    "<p>>>> fileLength('idterm.py')</p>\n",
    "<p>Traceback (most recent call last):</p>\n",
    "<p>File \"<pyshell#34>\", line 1, in <module></p>\n",
    "<p> fileLength('idterm.py')</p>\n",
    "<p>File \"/Users/me/midterm.py\", line 3, in fileLength</p>\n",
    "<p> infile = open(filename)</p>\n",
    "<p>FileNotFoundError: [Errno 2] No such file or directory:\n",
    "<p>'idterm.py'</p>\n",
    "    <br></br>\n",
    "As shown above, if the file cannot be found by the interpreter or if it cannot be read\n",
    "as a text file, an exception will be raised. Modify function fileLength() so that a\n",
    "friendly message is printed instead:\n",
    "<br></br>\n",
    "<p>>>> fileLength('midterm.py')</p>\n",
    "<p>358</p>\n",
    "<p>>>> fileLength('idterm.py')</p>\n",
    "<p>File idterm.py not found.</p>"
   ]
  },
  {
   "cell_type": "code",
   "execution_count": 8,
   "id": "76ebe89a",
   "metadata": {},
   "outputs": [
    {
     "name": "stdout",
     "output_type": "stream",
     "text": [
      "23498\n",
      "File idterm.py not found\n"
     ]
    }
   ],
   "source": [
    "import os\n",
    "def fileLength(filename):\n",
    "  try:\n",
    "    length = os.stat(filename)\n",
    "    print(length.st_size)\n",
    "  except IOError:\n",
    "    print(\"File \"+str(filename)+\" not found\")\n",
    "    \n",
    "fileLength('Problem Set 2.ipynb')\n",
    "fileLength('idterm.py')"
   ]
  },
  {
   "cell_type": "markdown",
   "id": "541706ff",
   "metadata": {},
   "source": [
    "# Question 3\n",
    "<br></br>\n",
    "Write a class named Marsupial that can be used as shown below:\n",
    "<br></br>\n",
    "<p>>>> m = Marsupial()</p>\n",
    "<p>>>> m.put_in_pouch('doll')</p>\n",
    "<p>>>> m.put_in_pouch('firetruck')</p>\n",
    "<p>>>> m.put_in_pouch('kitten')</p>\n",
    "<p>>>> m.pouch_contents()</p>\n",
    "<p>['doll', 'firetruck', 'kitten']</p>\n",
    "<br></br>\n",
    "Now write a class named Kangaroo as a subclass of Marsupial that inherits all the\n",
    "attributes of Marsupial and also:\n",
    "<br></br>\n",
    "a. extends the Marsupial __init__ constructor to take, as input, the\n",
    "coordinates x and y of the Kangaroo object,\n",
    "<br></br>\n",
    "b. supports method jump that takes number values dx and dy as input and\n",
    "moves the kangaroo by dx units along the x-axis and by dy units along the yaxis, and\n",
    "<br></br>\n",
    "c. overloads the __str__ operator so it behaves as shown below.\n",
    "<br></br>\n",
    "<p>>>> k = Kangaroo(0,0)</p>\n",
    "<p>>>> print(k)</p>\n",
    "<br></br>\n",
    "I am a Kangaroo located at coordinates (0,0)\n",
    "<br></br>\n",
    "<p>>>> k.put_in_pouch('doll')</p>\n",
    "<p>>>> k.put_in_pouch('firetruck')</p>\n",
    "<p>>>> k.put_in_pouch('kitten')</p>\n",
    "<p>>>> k.pouch_contents()</p>\n",
    "<p>['doll', 'firetruck', 'kitten']</p>\n",
    "<p>>>> k.jump(1,0)</p>\n",
    "<p>>>> k.jump(1,0)</p>\n",
    "<p>>>> k.jump(1,0)</p>\n",
    "<p>>>> print(k)</p>\n",
    "<br></br>\n",
    "I am a Kangaroo located at coordinates (3,0)"
   ]
  },
  {
   "cell_type": "code",
   "execution_count": 80,
   "id": "dc8943a5",
   "metadata": {},
   "outputs": [
    {
     "name": "stdout",
     "output_type": "stream",
     "text": [
      "['doll', 'firetruck', 'kitten']\n",
      "I am a Kangaroo located at coordinates (0,0)\n",
      "['doll', 'firetruck', 'kitten']\n",
      "I am a Kangaroo located at coordinates (3,0)\n"
     ]
    }
   ],
   "source": [
    "#Part 1\n",
    "class Marsupial:   \n",
    "    def __init__(self):\n",
    "        \n",
    "        self.pouch=[]\n",
    "    \n",
    "    def put_in_pouch(self, item):\n",
    "        self.pouch=self.pouch+[item]\n",
    "   \n",
    "\n",
    "    def pouch_contents(self):\n",
    "        return self.pouch\n",
    " \n",
    "m = Marsupial()\n",
    "m.put_in_pouch(\"doll\")\n",
    "m.put_in_pouch(\"firetruck\")\n",
    "m.put_in_pouch(\"kitten\")\n",
    "print(m.pouch_contents()) \n",
    "\n",
    "#Part 2\n",
    "class Kangaroo(Marsupial): #Kangaroo is now a subclass of Marsupial\n",
    "    \n",
    "    def __init__(self,x,y): #Initializing X and Y coordinates\n",
    "        Marsupial.__init__(self)\n",
    "        self.x = x\n",
    "        self.y = y\n",
    "        \n",
    "    def jump(self,dx,dy):\n",
    "        self.x += dx\n",
    "        self.y += dy\n",
    "   \n",
    "    def __str__(self): #Returns the output of coordinates\n",
    "        return 'I am a Kangaroo located at coordinates ({},{})'.format(self.x,self.y)\n",
    "\n",
    "\n",
    "k = Kangaroo(0,0)\n",
    "print(k)\n",
    "k.put_in_pouch('doll')\n",
    "k.put_in_pouch('firetruck')\n",
    "k.put_in_pouch('kitten')\n",
    "print(k.pouch_contents())\n",
    "k.jump(1,0)\n",
    "k.jump(1,0)\n",
    "k.jump(1,0)\n",
    "print(k) "
   ]
  },
  {
   "cell_type": "markdown",
   "id": "01fe3670",
   "metadata": {},
   "source": [
    "# Question 4\n",
    "<br></br>\n",
    "Write function collatz() that takes a positive integer x as input and prints the\n",
    "Collatz sequence starting at x. A Collatz sequence is obtained by repeatedly applying\n",
    "this rule to the previous number x in the sequence:\n",
    "<br></br>\n",
    "<p>x = { 𝑥/2 𝑖𝑓 𝑥 𝑖𝑠 𝑒𝑣𝑒𝑛</p>\n",
    "<p>x = { 3𝑥 + 1 𝑖𝑓 𝑥 𝑖𝑠 𝑜𝑑d</p>\n",
    "<br></br>\n",
    "Your function should stop when the sequence gets to number 1. Your\n",
    "implementation must be recursive, without any loops.\n",
    "<br></br>\n",
    "<p>>>> collatz(1)</p>\n",
    "<p>1</p>\n",
    "<p>>>> collatz(10)</p>\n",
    "<p>10</p>\n",
    "<p>5</p>\n",
    "<p>16</p>\n",
    "<p>8</p>\n",
    "<p>4</p>\n",
    "<p>2</p>\n",
    "<p>1</p>"
   ]
  },
  {
   "cell_type": "code",
   "execution_count": 44,
   "id": "ea8e9c64",
   "metadata": {},
   "outputs": [
    {
     "name": "stdout",
     "output_type": "stream",
     "text": [
      ">>> collatz(1)\n",
      "1\n",
      ">>> collatz(10)\n",
      "10\n",
      "5\n",
      "16\n",
      "8\n",
      "4\n",
      "2\n",
      "1\n"
     ]
    }
   ],
   "source": [
    "def collatz(x):\n",
    "    print(x)\n",
    "    if x == 1:\n",
    "        return \n",
    "    elif x%2 == 0:\n",
    "        return collatz(x//2)  \n",
    "    else:\n",
    "        return collatz(x*3+1) \n",
    "print(\">>> collatz(1)\")    \n",
    "collatz(1)\n",
    "print(\">>> collatz(10)\")  \n",
    "collatz(10)"
   ]
  },
  {
   "cell_type": "markdown",
   "id": "30725a4a",
   "metadata": {},
   "source": [
    "# Question 5\n",
    "<br></br>\n",
    "Write a recursive method binary() that takes a non-negative\n",
    "integer n and prints the binary representation of integer n.\n",
    "<br></br>\n",
    "<p>>>> binary(0)</p>\n",
    "<p>0</p>\n",
    "<p>>>> binary(1)</p>\n",
    "<p>1</p>\n",
    "<p>>>> binary(3)</p>\n",
    "<p>11</p>\n",
    "<p>>>> binary(9)</p>\n",
    "<p>1001</p>\n",
    "<br></br>\n"
   ]
  },
  {
   "cell_type": "code",
   "execution_count": 10,
   "id": "43cece56",
   "metadata": {},
   "outputs": [
    {
     "name": "stdout",
     "output_type": "stream",
     "text": [
      ">>> binary(0)\n",
      "0\n",
      ">>> binary(1)\n",
      "1\n",
      ">>> binary(3)\n",
      "11\n",
      ">>> binary(9)\n",
      "1001\n"
     ]
    }
   ],
   "source": [
    "def binary(num):\n",
    "    if num == 0:\n",
    "        return '0'\n",
    "    else:\n",
    "       b = ''\n",
    "       while num > 0: #when the number is more than zero\n",
    "           b = str((num % 2)) + b\n",
    "           num //= 2 #floor divison by 2 then retuen value\n",
    "    return b\n",
    "print(\">>> binary(0)\")\n",
    "print(binary(0))\n",
    "print(\">>> binary(1)\")\n",
    "print(binary(1))\n",
    "print(\">>> binary(3)\")\n",
    "print(binary(3))\n",
    "print(\">>> binary(9)\")\n",
    "print(binary(9))"
   ]
  },
  {
   "cell_type": "markdown",
   "id": "e2cab30e",
   "metadata": {},
   "source": [
    "# Question 6\n",
    "<br></br>\n",
    "Implement a class named HeadingParser that can be used to parse an HTML\n",
    "document, and retrieve and print all the headings in the document. You should\n",
    "implement your class as a subclass of HTMLParser, defined in Standard Library\n",
    "module html.parser. When fed a string containing HTML code, your class should\n",
    "print the headings, one per line and in the order in which they appear in the\n",
    "document. Each heading should be indented as follows: an h1 heading should have indentation 0, and h2 heading should have indentation 1, etc. Test your\n",
    "implementation using w3c.html.\n",
    "<br></br>\n",
    "<p>>>> infile = open('w3c.html')</p>\n",
    "<p>>>> content = infile.read()</p>\n",
    "<p>>>> infile.close()</p>\n",
    "<p>>>> hp = HeadingParser()</p>\n",
    "<p>>>> hp.feed(content)</p>\n",
    "<p>W3C Mission</p>\n",
    "<p>Principles</p>\n"
   ]
  },
  {
   "cell_type": "code",
   "execution_count": 149,
   "id": "ba98b2ee",
   "metadata": {},
   "outputs": [
    {
     "name": "stdout",
     "output_type": "stream",
     "text": [
      "W3C Mission\n",
      "\n",
      "\t\n",
      "Principles\n",
      "\n",
      " \n",
      "\n",
      "\n",
      "\n",
      "\n",
      "\n"
     ]
    }
   ],
   "source": [
    "from html.parser import HTMLParser\n",
    "class HeadingParser(HTMLParser):\n",
    "    head = False\n",
    "    def handle_starttag(self, tag, attrs):\n",
    "        if tag == \"h1\":\n",
    "            self.head = True\n",
    "    def handle_data(self, data):\n",
    "        if self.head:\n",
    "            print(data)\n",
    "\n",
    "\n",
    "infile = open(\"w3c.html\", \"r\")\n",
    "content = infile.read()\n",
    "infile.close()\n",
    "hp = HeadingParser()\n",
    "hp.feed(content)"
   ]
  },
  {
   "cell_type": "code",
   "execution_count": 151,
   "id": "0755906b",
   "metadata": {},
   "outputs": [
    {
     "name": "stdout",
     "output_type": "stream",
     "text": [
      "\n",
      "\n",
      "\n",
      "\n",
      "\n",
      "\n",
      "  \n",
      "\n",
      "  \n",
      "\n",
      "  \n",
      "\n",
      "  \n",
      "\n",
      "  \n",
      "\n",
      "  \n",
      "\n",
      "\n",
      "\n",
      "\n",
      "\n",
      "\n",
      "  \n",
      "\t\n",
      "\n",
      "W3C Mission\n",
      "\n",
      "\t\n",
      "Principles\n",
      "\n",
      "\n",
      " \n",
      "\n",
      "\n",
      "\n",
      "\n",
      "\n"
     ]
    }
   ],
   "source": [
    "from html.parser import HTMLParser\n",
    "#:(\n",
    "class HeadingParser(HTMLParser):\n",
    "    header1 = 'h1'\n",
    "    header2 = 'h2'\n",
    "    \n",
    "    def handle_starttag(self, tag, attrs):\n",
    "        if tag in self.header1:\n",
    "            print()\n",
    "\n",
    "    def handle_endtag(self, tag):\n",
    "        if tag in self.header2:\n",
    "            print()\n",
    "\n",
    "    def handle_data(self, data):\n",
    "        print(data)\n",
    "\n",
    "\n",
    "infile = open(\"w3c.html\", \"r\")\n",
    "content = infile.read()\n",
    "infile.close()\n",
    "hp = HeadingParser()\n",
    "hp.feed(content)"
   ]
  },
  {
   "cell_type": "markdown",
   "id": "3d1c366b",
   "metadata": {},
   "source": [
    "# Question 7\n",
    "<br></br>\n",
    "Implement recursive function webdir() that takes as input: a URL (as a string) and\n",
    "non-negative integers depth and indent. Your function should visit every web\n",
    "page reachable from the starting URL web page in depth clicks or less, and print\n",
    "each web page's URL. As shown below, indentation, specified by indent, should\n",
    "be used to indicate the depth of a URL.\n",
    "<br></br>\n",
    "<p>>>></p>\n",
    "<p>webdir('http://reed.cs.depaul.edu/lperkovic/csc242/test1.html, 2, 0)'</p>\n",
    "\n",
    "<p>http://reed.cs.depaul.edu/lperkovic/csc242/test1.html</p>\n",
    "<p> http://reed.cs.depaul.edu/lperkovic/csc242/test2.html</p>\n",
    "<p> http://reed.cs.depaul.edu/lperkovic/csc242/test4.html</p>\n",
    "<p> http://reed.cs.depaul.edu/lperkovic/csc242/test3.html</p>\n",
    "<p> http://reed.cs.depaul.edu/lperkovic/csc242/test4.html</p>"
   ]
  },
  {
   "cell_type": "code",
   "execution_count": 152,
   "id": "5f8a6c68",
   "metadata": {},
   "outputs": [
    {
     "ename": "IndentationError",
     "evalue": "expected an indented block (1470048603.py, line 6)",
     "output_type": "error",
     "traceback": [
      "\u001b[1;36m  Input \u001b[1;32mIn [152]\u001b[1;36m\u001b[0m\n\u001b[1;33m    def getLinks(url):\u001b[0m\n\u001b[1;37m    ^\u001b[0m\n\u001b[1;31mIndentationError\u001b[0m\u001b[1;31m:\u001b[0m expected an indented block\n"
     ]
    }
   ],
   "source": []
  },
  {
   "cell_type": "markdown",
   "id": "43313fbf",
   "metadata": {},
   "source": [
    "# Question 8\n",
    "<br></br>\n",
    "Write SQL queries on the below database table that return:\n",
    "<p>a) All the temperature data.</p>\n",
    "<p>b) All the cities, but without repetition.</p>\n",
    "<p>c) All the records for India.</p>\n",
    "<p>d) All the Fall records.</p>\n",
    "<p>e) The city, country, and season for which the average rainfall is between 200\n",
    "and 400 millimeters.</p>\n",
    "<p>f) The city and country for which the average Fall temperature is above 20\n",
    "degrees, in increasing temperature order.</p>\n",
    "<p>g) The total annual rainfall for Cairo.</p>\n",
    "<p>h) The total rainfall for each season.</p>\n",
    "<br></br>\n",
    "<table>\n",
    "<tr>\n",
    "<th>City</th> \n",
    "<th>Country</th>\n",
    "<th>Season</th>\n",
    "<th>Temperature(C)</th>\n",
    "<th>Rainfall(mm)</th>\n",
    "</tr>\n",
    "<tr>\n",
    "    <td>Mumbai</td> \n",
    "    <td>India</td>\n",
    "    <td>Winter</td>\n",
    "    <td>24.8 </td>\n",
    "    <td>5.9</td>\n",
    "    \n",
    "</tr>\n",
    "    <tr>\n",
    "    <td>Mumbai</td>\n",
    "    <td>India </td>\n",
    "    <td>Spring</td>\n",
    "    <td>28.4 </td>\n",
    "    <td>16.2</td>\n",
    "</tr>\n",
    "    <tr>\n",
    "    <td>Mumbai</td>\n",
    "    <td>India </td>\n",
    "    <td>Summer</td>\n",
    "    <td>27.9 </td>\n",
    "    <td>1549.4</td>\n",
    "</tr>\n",
    "    <tr>\n",
    "    <td>Mumbai</td>\n",
    "    <td>India </td>\n",
    "    <td>Fall</td>\n",
    "    <td>27.6</td>\n",
    "    <td>346.0</td>\n",
    "</tr>\n",
    "    <tr>\n",
    "    <td>London</td>\n",
    "    <td>United Kingdom </td>\n",
    "    <td>Winter</td>\n",
    "    <td>4.2</td>\n",
    "    <td>207.7</td>\n",
    "</tr>\n",
    "    <tr>\n",
    "   <td> London</td>\n",
    "    <td>United Kingdom </td>\n",
    "    <td>Spring </td>\n",
    "    <td>8.3 </td>\n",
    "    <td>169.6</td>\n",
    "</tr>\n",
    "    <tr>\n",
    "   <td> London</td>\n",
    "    <td>United Kingdom</td>\n",
    "    <td>Summer</td>\n",
    "    <td>15.7 </td>\n",
    "    <td>157.0</td>\n",
    "</tr>\n",
    "    <tr>\n",
    "    <td>London</td>\n",
    "    <td>United Kingdom</td>\n",
    "    <td>Fall </td>\n",
    "   <td> 10.4 </td>\n",
    "   <td> 218.5</td>\n",
    "</tr>\n",
    "    <tr>\n",
    "    <td>Cairo</td>\n",
    "   <td> Egypt</td>\n",
    "    <td>Winter</td>\n",
    "    <td>13.6</td>\n",
    "    <td>16.5</td>\n",
    "</tr>\n",
    "    <tr>\n",
    "    <td>Cairo</td>\n",
    "    <td>Egypt</td>\n",
    "    <td>Spring</td>\n",
    "    <td>20.7</td>\n",
    "    <td>6.5</td>\n",
    "</tr>\n",
    "    <tr>\n",
    "   <td> Cairo</td>\n",
    "    <td>Egypt</td>\n",
    "    <td>Summer</td>\n",
    "   <td> 27.7</td>\n",
    "    <td>0.1</td>\n",
    "</tr>\n",
    "    <tr>\n",
    "    <td>Cairo</td>\n",
    "   <td> Egypt</td>\n",
    "   <td> Fall</td>\n",
    "    <td>22.2</td>\n",
    "   <td> 4.5 </td>\n",
    "</tr>\n",
    "</table>"
   ]
  },
  {
   "cell_type": "code",
   "execution_count": 91,
   "id": "5257d83d",
   "metadata": {
    "scrolled": true
   },
   "outputs": [
    {
     "name": "stdout",
     "output_type": "stream",
     "text": [
      "Requirement already satisfied: ipython-sql in c:\\users\\jeffrey\\anaconda3\\lib\\site-packages (0.4.1)\n",
      "Requirement already satisfied: prettytable<1 in c:\\users\\jeffrey\\anaconda3\\lib\\site-packages (from ipython-sql) (0.7.2)\n",
      "Requirement already satisfied: six in c:\\users\\jeffrey\\anaconda3\\lib\\site-packages (from ipython-sql) (1.16.0)\n",
      "Requirement already satisfied: sqlalchemy>=0.6.7 in c:\\users\\jeffrey\\anaconda3\\lib\\site-packages (from ipython-sql) (1.4.32)\n",
      "Requirement already satisfied: sqlparse in c:\\users\\jeffrey\\anaconda3\\lib\\site-packages (from ipython-sql) (0.4.2)\n",
      "Requirement already satisfied: ipython>=1.0 in c:\\users\\jeffrey\\anaconda3\\lib\\site-packages (from ipython-sql) (8.2.0)\n",
      "Requirement already satisfied: ipython-genutils>=0.1.0 in c:\\users\\jeffrey\\anaconda3\\lib\\site-packages (from ipython-sql) (0.2.0)\n",
      "Requirement already satisfied: matplotlib-inline in c:\\users\\jeffrey\\anaconda3\\lib\\site-packages (from ipython>=1.0->ipython-sql) (0.1.2)\n",
      "Requirement already satisfied: pygments>=2.4.0 in c:\\users\\jeffrey\\anaconda3\\lib\\site-packages (from ipython>=1.0->ipython-sql) (2.11.2)\n",
      "Requirement already satisfied: setuptools>=18.5 in c:\\users\\jeffrey\\anaconda3\\lib\\site-packages (from ipython>=1.0->ipython-sql) (61.2.0)\n",
      "Requirement already satisfied: traitlets>=5 in c:\\users\\jeffrey\\anaconda3\\lib\\site-packages (from ipython>=1.0->ipython-sql) (5.1.1)\n",
      "Requirement already satisfied: stack-data in c:\\users\\jeffrey\\anaconda3\\lib\\site-packages (from ipython>=1.0->ipython-sql) (0.2.0)\n",
      "Requirement already satisfied: backcall in c:\\users\\jeffrey\\anaconda3\\lib\\site-packages (from ipython>=1.0->ipython-sql) (0.2.0)\n",
      "Requirement already satisfied: pickleshare in c:\\users\\jeffrey\\anaconda3\\lib\\site-packages (from ipython>=1.0->ipython-sql) (0.7.5)\n",
      "Requirement already satisfied: prompt-toolkit!=3.0.0,!=3.0.1,<3.1.0,>=2.0.0 in c:\\users\\jeffrey\\anaconda3\\lib\\site-packages (from ipython>=1.0->ipython-sql) (3.0.20)\n",
      "Requirement already satisfied: jedi>=0.16 in c:\\users\\jeffrey\\anaconda3\\lib\\site-packages (from ipython>=1.0->ipython-sql) (0.18.1)\n",
      "Requirement already satisfied: colorama in c:\\users\\jeffrey\\anaconda3\\lib\\site-packages (from ipython>=1.0->ipython-sql) (0.4.4)\n",
      "Requirement already satisfied: decorator in c:\\users\\jeffrey\\anaconda3\\lib\\site-packages (from ipython>=1.0->ipython-sql) (5.1.1)\n",
      "Requirement already satisfied: parso<0.9.0,>=0.8.0 in c:\\users\\jeffrey\\anaconda3\\lib\\site-packages (from jedi>=0.16->ipython>=1.0->ipython-sql) (0.8.3)\n",
      "Requirement already satisfied: wcwidth in c:\\users\\jeffrey\\anaconda3\\lib\\site-packages (from prompt-toolkit!=3.0.0,!=3.0.1,<3.1.0,>=2.0.0->ipython>=1.0->ipython-sql) (0.2.5)\n",
      "Requirement already satisfied: greenlet!=0.4.17 in c:\\users\\jeffrey\\anaconda3\\lib\\site-packages (from sqlalchemy>=0.6.7->ipython-sql) (1.1.1)\n",
      "Requirement already satisfied: pure-eval in c:\\users\\jeffrey\\anaconda3\\lib\\site-packages (from stack-data->ipython>=1.0->ipython-sql) (0.2.2)\n",
      "Requirement already satisfied: asttokens in c:\\users\\jeffrey\\anaconda3\\lib\\site-packages (from stack-data->ipython>=1.0->ipython-sql) (2.0.5)\n",
      "Requirement already satisfied: executing in c:\\users\\jeffrey\\anaconda3\\lib\\site-packages (from stack-data->ipython>=1.0->ipython-sql) (0.8.3)\n"
     ]
    }
   ],
   "source": [
    "!pip install ipython-sql"
   ]
  },
  {
   "cell_type": "code",
   "execution_count": 90,
   "id": "fba9b283",
   "metadata": {},
   "outputs": [
    {
     "name": "stdout",
     "output_type": "stream",
     "text": [
      "The sql extension is already loaded. To reload it, use:\n",
      "  %reload_ext sql\n"
     ]
    }
   ],
   "source": [
    "%load_ext sql\n",
    "%sql sqlite:///"
   ]
  },
  {
   "cell_type": "code",
   "execution_count": 83,
   "id": "594d3cd6",
   "metadata": {},
   "outputs": [
    {
     "name": "stdout",
     "output_type": "stream",
     "text": [
      " * sqlite:///\n",
      "Done.\n"
     ]
    },
    {
     "data": {
      "text/plain": [
       "[]"
      ]
     },
     "execution_count": 83,
     "metadata": {},
     "output_type": "execute_result"
    }
   ],
   "source": [
    "%%sql\n",
    "CREATE TABLE weather(\n",
    "    city varchar(30),\n",
    "    country varchar(40),\n",
    "    season varchar(50),\n",
    "    temperature float(20),\n",
    "    rainfall  float(30)\n",
    ");\n"
   ]
  },
  {
   "cell_type": "code",
   "execution_count": null,
   "id": "e9bdf320",
   "metadata": {},
   "outputs": [],
   "source": [
    "%%sql\n",
    "INSERT INTO weather VALUES\n",
    "('Mumbai','India', 'winter','24.8','5.9'),\n",
    "('Mumbai','India', 'spring','28.4','16.2'),\n",
    "('Mumbai','India', 'summer','27.9','1549.4'),\n",
    "('Mumbai','India', 'fall','27.6','346.0'),\n",
    "('London','United Kingdom','winter','4.2','207.7'),\n",
    "('London','United Kingdom','sping','8.3','169.6'),\n",
    "('London','United Kingdom','summer','15.7','157.0'),\n",
    "('London','United Kingdom','fall','10.4','218.5'),\n",
    "('Cairo','Egypt', 'winter','13.6','16.5'),\n",
    "('Cairo','Egypt', 'spring','20.7','6.5'),\n",
    "('Cairo','Egypt', 'summer','27.7','0.1'),\n",
    "('Cairo','Egypt', 'fall','22.2','4.5'\n",
    ");"
   ]
  },
  {
   "cell_type": "code",
   "execution_count": 101,
   "id": "52d9f093",
   "metadata": {
    "scrolled": false
   },
   "outputs": [
    {
     "name": "stdout",
     "output_type": "stream",
     "text": [
      " * sqlite:///\n",
      "Done.\n"
     ]
    },
    {
     "data": {
      "text/html": [
       "<table>\n",
       "    <tr>\n",
       "        <th>city</th>\n",
       "        <th>country</th>\n",
       "        <th>season</th>\n",
       "        <th>temperature</th>\n",
       "        <th>rainfall</th>\n",
       "    </tr>\n",
       "</table>"
      ],
      "text/plain": [
       "[]"
      ]
     },
     "execution_count": 101,
     "metadata": {},
     "output_type": "execute_result"
    }
   ],
   "source": [
    "%sql SELECT * from weather;"
   ]
  },
  {
   "cell_type": "code",
   "execution_count": 106,
   "id": "ac5a255e",
   "metadata": {},
   "outputs": [
    {
     "name": "stdout",
     "output_type": "stream",
     "text": [
      " * sqlite:///\n",
      "Done.\n"
     ]
    },
    {
     "data": {
      "text/html": [
       "<table>\n",
       "    <tr>\n",
       "        <th>temperature</th>\n",
       "    </tr>\n",
       "</table>"
      ],
      "text/plain": [
       "[]"
      ]
     },
     "execution_count": 106,
     "metadata": {},
     "output_type": "execute_result"
    }
   ],
   "source": [
    "%sql SELECT temperature from weather;\n"
   ]
  },
  {
   "cell_type": "code",
   "execution_count": 107,
   "id": "4282a489",
   "metadata": {},
   "outputs": [
    {
     "name": "stdout",
     "output_type": "stream",
     "text": [
      " * sqlite:///\n",
      "Done.\n"
     ]
    },
    {
     "data": {
      "text/html": [
       "<table>\n",
       "    <tr>\n",
       "        <th>city</th>\n",
       "    </tr>\n",
       "</table>"
      ],
      "text/plain": [
       "[]"
      ]
     },
     "execution_count": 107,
     "metadata": {},
     "output_type": "execute_result"
    }
   ],
   "source": [
    "%sql SELECT distinct city from weather;\n"
   ]
  },
  {
   "cell_type": "code",
   "execution_count": 108,
   "id": "5c62d7db",
   "metadata": {},
   "outputs": [
    {
     "name": "stdout",
     "output_type": "stream",
     "text": [
      " * sqlite:///\n",
      "Done.\n"
     ]
    },
    {
     "data": {
      "text/html": [
       "<table>\n",
       "    <tr>\n",
       "        <th>city</th>\n",
       "        <th>country</th>\n",
       "        <th>season</th>\n",
       "        <th>temperature</th>\n",
       "        <th>rainfall</th>\n",
       "    </tr>\n",
       "</table>"
      ],
      "text/plain": [
       "[]"
      ]
     },
     "execution_count": 108,
     "metadata": {},
     "output_type": "execute_result"
    }
   ],
   "source": [
    "%sql SELECT * from weather where country = 'India';\n"
   ]
  },
  {
   "cell_type": "code",
   "execution_count": 109,
   "id": "a10d54c8",
   "metadata": {},
   "outputs": [
    {
     "name": "stdout",
     "output_type": "stream",
     "text": [
      " * sqlite:///\n",
      "Done.\n"
     ]
    },
    {
     "data": {
      "text/html": [
       "<table>\n",
       "    <tr>\n",
       "        <th>city</th>\n",
       "        <th>country</th>\n",
       "        <th>season</th>\n",
       "        <th>temperature</th>\n",
       "        <th>rainfall</th>\n",
       "    </tr>\n",
       "</table>"
      ],
      "text/plain": [
       "[]"
      ]
     },
     "execution_count": 109,
     "metadata": {},
     "output_type": "execute_result"
    }
   ],
   "source": [
    "%sql SELECT * from weather where season ='fall';\n"
   ]
  },
  {
   "cell_type": "code",
   "execution_count": 131,
   "id": "2e7607a6",
   "metadata": {},
   "outputs": [
    {
     "name": "stdout",
     "output_type": "stream",
     "text": [
      " * sqlite:///\n",
      "Done.\n"
     ]
    },
    {
     "data": {
      "text/html": [
       "<table>\n",
       "    <tr>\n",
       "        <th>city</th>\n",
       "        <th>country</th>\n",
       "        <th>season</th>\n",
       "    </tr>\n",
       "</table>"
      ],
      "text/plain": [
       "[]"
      ]
     },
     "execution_count": 131,
     "metadata": {},
     "output_type": "execute_result"
    }
   ],
   "source": [
    "%sql SELECT city, country, season from weather where rainfall > 200 and rainfall < 400;\n"
   ]
  },
  {
   "cell_type": "code",
   "execution_count": 130,
   "id": "b6c34185",
   "metadata": {},
   "outputs": [
    {
     "name": "stdout",
     "output_type": "stream",
     "text": [
      " * sqlite:///\n",
      "Done.\n"
     ]
    },
    {
     "data": {
      "text/html": [
       "<table>\n",
       "    <tr>\n",
       "        <th>city</th>\n",
       "        <th>country</th>\n",
       "    </tr>\n",
       "</table>"
      ],
      "text/plain": [
       "[]"
      ]
     },
     "execution_count": 130,
     "metadata": {},
     "output_type": "execute_result"
    }
   ],
   "source": [
    "%sql SELECT city, country from weather where season = 'fall' and temperature > 20 order by temperature;"
   ]
  },
  {
   "cell_type": "code",
   "execution_count": 129,
   "id": "6627784d",
   "metadata": {},
   "outputs": [
    {
     "name": "stdout",
     "output_type": "stream",
     "text": [
      " * sqlite:///\n",
      "Done.\n"
     ]
    },
    {
     "data": {
      "text/html": [
       "<table>\n",
       "    <tr>\n",
       "        <th>sum(rainfall)</th>\n",
       "    </tr>\n",
       "    <tr>\n",
       "        <td>None</td>\n",
       "    </tr>\n",
       "</table>"
      ],
      "text/plain": [
       "[(None,)]"
      ]
     },
     "execution_count": 129,
     "metadata": {},
     "output_type": "execute_result"
    }
   ],
   "source": [
    "%sql SELECT sum(rainfall) from weather where city = 'Cairo';"
   ]
  },
  {
   "cell_type": "code",
   "execution_count": 146,
   "id": "5b76c630",
   "metadata": {},
   "outputs": [
    {
     "name": "stdout",
     "output_type": "stream",
     "text": [
      " * sqlite:///\n",
      "Done.\n"
     ]
    },
    {
     "data": {
      "text/html": [
       "<table>\n",
       "    <tr>\n",
       "        <th>sum(rainfall)</th>\n",
       "    </tr>\n",
       "</table>"
      ],
      "text/plain": [
       "[]"
      ]
     },
     "execution_count": 146,
     "metadata": {},
     "output_type": "execute_result"
    }
   ],
   "source": [
    "%sql SELECT sum(rainfall) from weather group by season;"
   ]
  },
  {
   "cell_type": "markdown",
   "id": "0559d8ac",
   "metadata": {},
   "source": [
    "# Question 9\n",
    "<br></br>\n",
    "Suppose list words is defined as follows:\n",
    "<p>>>> words = ['The', 'quick', 'brown', 'fox', 'jumps', 'over',\n",
    "'the', 'lazy', 'dog']</p>\n",
    "<p>Write list comprehension expressions that use list words and generate the following\n",
    "lists:</p>\n",
    "<p>a) ['THE', 'QUICK', 'BROWN', 'FOX', 'JUMPS', 'OVER', 'THE',\n",
    "'LAZY', 'DOG']</p>\n",
    "<p>b) ['the', 'quick', 'brown', 'fox', 'jumps', 'over', 'the',\n",
    "'lazy', 'dog']</p>\n",
    "<p>c) [3, 5, 5, 3, 5, 4, 3, 4, 3] (the list of lengths of words in list\n",
    "words).</p>\n",
    "<p>d) [['THE', 'the', 3], ['QUICK', 'quick', 5], ['BROWN',\n",
    "'brown', 5], ['FOX', 'fox', 3], ['JUMPS', 'jumps', 5],\n",
    "['OVER', 'over', 4], ['THE', 'the', 3], ['LAZY', 'lazy',\n",
    "4], ['DOG', 'dog', 3]] (the list containing a list for every word of list\n",
    "words, where each list contains the word in uppercase and lowercase and the\n",
    "length of the word.)</p>\n",
    "<p>e) ['The', 'quick', 'brown', 'fox', 'jumps', 'over', 'the',\n",
    "'lazy', 'dog'] (the list of words in list words containing 4 or more\n",
    "characters.)</p>"
   ]
  },
  {
   "cell_type": "markdown",
   "id": "e0c2b150",
   "metadata": {},
   "source": []
  },
  {
   "cell_type": "code",
   "execution_count": 14,
   "id": "6ddb6f43",
   "metadata": {},
   "outputs": [
    {
     "name": "stdout",
     "output_type": "stream",
     "text": [
      "['THE', 'QUICK', 'BROWN', 'FOX', 'JUMPS', 'OVER', 'THE', 'LAZY', 'DOG']\n",
      "['the', 'quick', 'brown', 'fox', 'jumps', 'over', 'the', 'lazy', 'dog']\n",
      "[3, 5, 5, 3, 5, 4, 3, 4, 3]\n",
      "[['THE', 'the', 3], ['QUICK', 'quick', 5], ['BROWN', 'brown', 5], ['FOX', 'fox', 3], ['JUMPS', 'jumps', 5], ['OVER', 'over', 4], ['THE', 'the', 3], ['LAZY', 'lazy', 4], ['DOG', 'dog', 3]]\n",
      "['quick', 'brown', 'jumps', 'over', 'lazy']\n"
     ]
    }
   ],
   "source": [
    "#a\n",
    "\n",
    "def Upper(words):  \n",
    "    for i in range(len(words)): #turing words to uppercase\n",
    "        words[i] = words[i].upper()\n",
    "\n",
    "    return words\n",
    "\n",
    "words = ['The', 'quick', 'brown', 'fox', 'jumps', 'over', 'the', 'lazy', 'dog']\n",
    "list_Upper = Upper(words)\n",
    "print(list_Upper)\n",
    "\n",
    "#b\n",
    "\n",
    "def Lower(words): \n",
    "    for i in range(len(words)): #turing words to lowercase\n",
    "        words[i] = words[i].lower()\n",
    "\n",
    "    return words\n",
    "\n",
    "\n",
    "words = ['The', 'quick', 'brown', 'fox', 'jumps', 'over', 'the', 'lazy', 'dog']\n",
    "list_Lower = Lower(words)\n",
    "print(list_Lower)\n",
    "\n",
    "\n",
    "#c\n",
    "\n",
    "def Length(words):\n",
    "    for i in range(len(words)):  #turing words to the length of each word\n",
    "        words[i] = len(words[i])\n",
    "\n",
    "    return words\n",
    "\n",
    "\n",
    "words = ['The', 'quick', 'brown', 'fox', 'jumps', 'over', 'the', 'lazy', 'dog']\n",
    "list_Length=Length(words)\n",
    "print(list_Length)\n",
    "\n",
    "\n",
    "#d\n",
    "\n",
    "def X(words):\n",
    "    list = [] #list that stores the uppercase, lowercase and length of words\n",
    "    out = [] #list to create list of the word\n",
    "    for i in range(len(words)):\n",
    "        out.append(words[i].upper())\n",
    "        out.append(words[i].lower())\n",
    "        out.append(len(words[i]))         \n",
    "        list.append(out) #append the out list to list\n",
    "        out = []\n",
    "\n",
    "    return list\n",
    "\n",
    "\n",
    "words = ['The', 'quick', 'brown', 'fox', 'jumps', 'over', 'the', 'lazy', 'dog']\n",
    "list = X(words)\n",
    "print(list)\n",
    "\n",
    "#e\n",
    "\n",
    "def X_4(words):\n",
    "    list = []\n",
    "    for i in range(len(words)):\n",
    "        if len(words[i]) >= 4:   #When theres 4 or more characters         \n",
    "            list.append(words[i])\n",
    "\n",
    "    return list\n",
    "\n",
    "\n",
    "words = ['The', 'quick', 'brown', 'fox', 'jumps', 'over', 'the', 'lazy', 'dog']\n",
    "\n",
    "list = X_4(words)\n",
    "print(list)"
   ]
  }
 ],
 "metadata": {
  "kernelspec": {
   "display_name": "Python 3 (ipykernel)",
   "language": "python",
   "name": "python3"
  },
  "language_info": {
   "codemirror_mode": {
    "name": "ipython",
    "version": 3
   },
   "file_extension": ".py",
   "mimetype": "text/x-python",
   "name": "python",
   "nbconvert_exporter": "python",
   "pygments_lexer": "ipython3",
   "version": "3.9.12"
  }
 },
 "nbformat": 4,
 "nbformat_minor": 5
}
