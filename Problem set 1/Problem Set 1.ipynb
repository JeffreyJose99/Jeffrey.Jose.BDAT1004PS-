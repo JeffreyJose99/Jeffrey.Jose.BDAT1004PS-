{
 "cells": [
  {
   "cell_type": "markdown",
   "id": "a351c429",
   "metadata": {},
   "source": [
    "# Question 1\n",
    "## What data type is each of the following?\n",
    "<br></br>\n",
    "5\n",
    "<br></br>\n",
    "5.0\n",
    "<br></br>\n",
    "5 > 1\n",
    "<br></br>\n",
    "'5'\n",
    "<br></br>\n",
    "5 * 2\n",
    "<br></br>\n",
    "'5' * 2\n",
    "<br></br>\n",
    "'5' + '2'\n",
    "<br></br>\n",
    "5 / 2\n",
    "<br></br>\n",
    "5 % 2\n",
    "<br></br>\n",
    "{5, 2, 1}\n",
    "<br></br>\n",
    "5 == 3\n",
    "<br></br>\n",
    "Pi (the number)\n",
    "\n"
   ]
  },
  {
   "cell_type": "code",
   "execution_count": 14,
   "id": "6e1d3e07",
   "metadata": {},
   "outputs": [
    {
     "name": "stdout",
     "output_type": "stream",
     "text": [
      "The data type for each is as follows\n",
      "The data type of 5 is <class 'int'>\n",
      "The data type of 5.0 is <class 'float'>\n",
      "The data type of 5 > 1 is <class 'bool'>\n",
      "The data type of '5' is <class 'str'>\n",
      "The data type of 5 * 2 is <class 'int'>\n",
      "The data type of '5' * 2 is <class 'str'>\n",
      "The data type of '5' + '2' is <class 'str'>\n",
      "The data type of 5 / 2 is <class 'float'>\n",
      "The data type of 5 % 2 is <class 'int'>\n",
      "The data type of {5, 2, 1} is <class 'set'>\n",
      "The data type of 5 == 3 is <class 'bool'>\n",
      "The data type of Pi i.e 3.141592653589793 is <class 'float'>\n"
     ]
    }
   ],
   "source": [
    "a = 5\n",
    "b = 5.0\n",
    "c = 5 > 1\n",
    "d = '5'\n",
    "e = 5 * 2\n",
    "f = '5' * 2\n",
    "g = '5' + '2'\n",
    "h = 5 / 2\n",
    "i = 5 % 2\n",
    "j = {5, 2, 1}\n",
    "k = 5 == 3\n",
    "l = 3.141592653589793\n",
    "print(\"The data type for each is as follows\")\n",
    "print(\"The data type of 5 is\",type(a))\n",
    "print(\"The data type of 5.0 is\",type(b))\n",
    "print(\"The data type of 5 > 1 is\",type(c))\n",
    "print(\"The data type of '5' is\",type(d))\n",
    "print(\"The data type of 5 * 2 is\",type(e))\n",
    "print(\"The data type of '5' * 2 is\",type(f))\n",
    "print(\"The data type of '5' + '2' is\",type(g))\n",
    "print(\"The data type of 5 / 2 is\",type(h))\n",
    "print(\"The data type of 5 % 2 is\",type(i))\n",
    "print(\"The data type of {5, 2, 1} is\",type(j))\n",
    "print(\"The data type of 5 == 3 is\",type(k))\n",
    "print(\"The data type of Pi i.e 3.141592653589793 is\",type(l))\n",
    "\n"
   ]
  },
  {
   "cell_type": "markdown",
   "id": "997662e0",
   "metadata": {},
   "source": [
    "# Question 2\n",
    "## Write (and evaluate) expressions that answer these questions:## \n",
    "<p>a. How many letters are there in 'Supercalifragilisticexpialidocious'?</p>\n",
    "<p>b. Does 'Supercalifragilisticexpialidocious' contain 'ice' as a substring? </p>"
   ]
  },
  {
   "cell_type": "code",
   "execution_count": 16,
   "id": "76ebe89a",
   "metadata": {},
   "outputs": [
    {
     "name": "stdout",
     "output_type": "stream",
     "text": [
      "There are  35  letters in Supercalifragilisticexpialidocious.\n",
      "It is True that 'Supercalifragilisticexpialidocious' contains 'ice' as a substring\n"
     ]
    }
   ],
   "source": [
    "a = 'Supercalifragilisticexpialidocious'\n",
    "print(\"There are \",a.count(''),\" letters in Supercalifragilisticexpialidocious.\")\n",
    "print(\"It is\",'ice' in a, \"that\", \"'Supercalifragilisticexpialidocious' contains 'ice' as a substring\")"
   ]
  },
  {
   "cell_type": "markdown",
   "id": "541706ff",
   "metadata": {},
   "source": [
    "# Question 3\n",
    "<p>Implement function triangleArea(a,b,c) that takes as input the lengths of the 3\n",
    "sides of a triangle and returns the area of the triangle. By Heron's formula, the area\n",
    "of a triangle with side lengths a, b, and c is</p>\n",
    "<p><span>&#8730;s(s - a)(s -b)(s -c)</span></p>\n",
    "<p>, where</p>\n",
    "<p>s = (a+b+c)/2.</p>\n",
    "<p>>>> triangleArea(2,2,2)</p>\n",
    "<p>1.7320508075688772</p>"
   ]
  },
  {
   "cell_type": "code",
   "execution_count": 13,
   "id": "dc8943a5",
   "metadata": {},
   "outputs": [
    {
     "name": "stdout",
     "output_type": "stream",
     "text": [
      "The area of the triangle using Heron's formula is 1.7320508075688772\n"
     ]
    }
   ],
   "source": [
    "a = 2\n",
    "b = 2\n",
    "c = 2\n",
    "s = (a+b+c) / 2\n",
    "import math\n",
    "x = math.sqrt(s * (s - a) * (s -b) * (s -c) )\n",
    "print (\"The area of the triangle using Heron's formula is\", (x))"
   ]
  },
  {
   "cell_type": "markdown",
   "id": "01fe3670",
   "metadata": {},
   "source": [
    "# Question 4\n",
    "<p><p>Write a program in Python to separate odd and even integers in separate arrays.</p>\n",
    "<p>Go to the editor</p>\n",
    "<p>Test Data :</p>\n",
    "<p>Input the number of elements to be stored in the array :5</p>\n",
    "<p>Input 5 elements in the array :</p>\n",
    "<p>element - 0 : 25</p>\n",
    "<p>element - 1 : 47</p>\n",
    "<p>element - 2 : 42</p>\n",
    "<p>element - 3 : 56</p>\n",
    "<p>element - 4 : 32</p>\n",
    "<p>Expected Output:</p>\n",
    "<p>The Even elements are:</p>\n",
    "<p>42 56 32</p>\n",
    "<p>The Odd elements are :</p>\n",
    "<p>25 47</p>"
   ]
  },
  {
   "cell_type": "code",
   "execution_count": 4,
   "id": "ea8e9c64",
   "metadata": {},
   "outputs": [
    {
     "name": "stdout",
     "output_type": "stream",
     "text": [
      "The Even elements are:\n",
      "[42, 56, 32]\n",
      "The Odd elements are :\n",
      "[25, 47]\n"
     ]
    }
   ],
   "source": [
    "lst = [25, 47, 42, 56, 32]\n",
    "Even = []\n",
    "Odd = []\n",
    " \n",
    "for i in lst:\n",
    "    if i % 2 == 0:\n",
    "        Even.append(i)\n",
    "    else:\n",
    "        Odd.append(i)\n",
    " \n",
    "print(\"The Even elements are:\")\n",
    "print(Even)\n",
    "print(\"The Odd elements are :\")\n",
    "print(Odd)\n"
   ]
  },
  {
   "cell_type": "markdown",
   "id": "30725a4a",
   "metadata": {},
   "source": [
    "# Question 5\n",
    "## Write a function inside(x,y,x1,y1,x2,y2) that returns True or False depending on whether the point (x,y) lies in the rectangle with lower left corner (x1,y1) and upper right corner (x2,y2).\n",
    "<br>\n",
    "<p>>>> inside(1,1,0,0,2,3)</p>\n",
    "<p>True</p>\n",
    "<p>>>> inside(-1,-1,0,0,2,3)</p>\n",
    "<p>False</p>\n",
    "<p>b. Use function inside() from part a. to write an expression that tests whether</p>\n",
    "<p>the point (1,1) lies in both of the following rectangles: one with lower left</p>\n",
    "<p>corner (0.3, 0.5) and upper right corner (1.1, 0.7) and the other with lower</p>\n",
    "<p>left corner (0.5, 0.2) and upper right corner (1.1, 2).</p>"
   ]
  },
  {
   "cell_type": "code",
   "execution_count": 32,
   "id": "43cece56",
   "metadata": {},
   "outputs": [
    {
     "name": "stdout",
     "output_type": "stream",
     "text": [
      "Part A:\n",
      "True\n",
      "False\n",
      "Part B:\n",
      "False\n",
      "True\n"
     ]
    }
   ],
   "source": [
    "# part a.\n",
    "print(\"Part A:\")\n",
    "def point(x, y, x1, y1, x2, y2) : \n",
    "   if (x > x1 and x < x2 and y > y1 and y < y2) : \n",
    "      return True \n",
    "   else : \n",
    "      return False \n",
    "x, y = (1, 1)\n",
    "x1, y1 = (0, 0) \n",
    "x2, y2 = (2, 3) \n",
    "\n",
    "print(point(x, y, x1, y1, x2, y2))\n",
    "\n",
    "x, y = (-1, -1)\n",
    "x1, y1 = (0, 0) \n",
    "x2, y2 = (2, 3) \n",
    "\n",
    "print(point(x, y, x1, y1, x2, y2))\n",
    "\n",
    "#part b.\n",
    "print(\"Part B:\")\n",
    "x, y = (1.0, 1.0)\n",
    "x1, y1 = (0.3, 0.5) \n",
    "x2, y2 = (1.1, 0.7) \n",
    "\n",
    "print(point(x, y, x1, y1, x2, y2))\n",
    "\n",
    "x, y = (1.0, 1.0)\n",
    "x1, y1 = (0.5, 0.2) \n",
    "x2, y2 = (1.1, 2) \n",
    "\n",
    "print(point(x, y, x1, y1, x2, y2))\n"
   ]
  },
  {
   "cell_type": "markdown",
   "id": "e2cab30e",
   "metadata": {},
   "source": [
    "# Question 6\n",
    "## You can turn a word into pig-Latin using the following two rules (simplified):\n",
    "<p>• If the word starts with a consonant, move that letter to the end and append\n",
    "'ay'. For example, 'happy' becomes 'appyhay' and 'pencil' becomes 'encilpay'.</p>\n",
    "<p>• If the word starts with a vowel, simply append 'way' to the end of the word.</p>\n",
    "<p>For example, 'enter' becomes 'enterway' and 'other' becomes 'otherway' . For\n",
    "our purposes, there are 5 vowels: a, e, i, o, u (so we count y as a consonant).\n",
    "Write a function pig() that takes a word (i.e., a string) as input and returns its pigLatin form. Your function should still work if the input word contains upper case\n",
    "characters. Your output should always be lower case however.</p>\n",
    "<p>>>> pig('happy')</p>\n",
    "<p>'appyhay'</p></p>\n",
    "<p>>>> pig('Enter')</p>\n",
    "<p>'enterway' </p>"
   ]
  },
  {
   "cell_type": "code",
   "execution_count": 16,
   "id": "ba98b2ee",
   "metadata": {},
   "outputs": [
    {
     "name": "stdout",
     "output_type": "stream",
     "text": [
      "appyhay\n",
      "Enterway\n"
     ]
    }
   ],
   "source": [
    "def pig(word):\n",
    "    vowels = (\"a\",\"e\",\"i\",\"o\",\"u\",\"A\",\"E\",\"I\",\"O\",\"U\")\n",
    "    \n",
    "    for i in word.split():\n",
    "        if word[0] in vowels:\n",
    "            return word+\"way\"\n",
    "        else:\n",
    "            return word[1:]+word[0]+\"ay\"\n",
    "        \n",
    "print(pig(\"happy\"))\n",
    "print(pig(\"Enter\"))"
   ]
  },
  {
   "cell_type": "markdown",
   "id": "3d1c366b",
   "metadata": {},
   "source": [
    "# Question 7\n",
    "<p>File bloodtype1.txt records blood-types of patients (A, B, AB, O or OO) at a clinic.\n",
    "Write a function bldcount() that reads the file with name name and reports (i.e.,\n",
    "prints) how many patients there are in each bloodtype.</p>\n",
    "<p>>>> bldcount('bloodtype.txt')</p>\n",
    "<p>There are 10 patients of blood type A.</p>\n",
    "<p>There is one patient of blood type B.</p>\n",
    "<p>There are 10 patients of blood type AB.</p>\n",
    "<p>There are 12 patients of blood type O.</p>\n",
    "<p>There are no patients of blood type OO.</p>"
   ]
  },
  {
   "cell_type": "code",
   "execution_count": 23,
   "id": "5f8a6c68",
   "metadata": {},
   "outputs": [
    {
     "name": "stdout",
     "output_type": "stream",
     "text": [
      "There are 15 patients of blood typeA\n",
      "There are 1 patients of blood typeB\n",
      "There are 13 patients of blood typeAB\n",
      "There are 15 patients of blood typeO\n",
      "There are 0 patients of blood typeOO\n"
     ]
    }
   ],
   "source": [
    "def bldcount(filename):\n",
    "    infile = open(filename)\n",
    "    bloodlst = infile.read()\n",
    "    lst = bloodlst.split()\n",
    "    for i in lst:\n",
    "        print (\"There are\",lst.count(\"A\"),\"patients of blood type\"+ \"A\")\n",
    "        print (\"There are\",lst.count(\"B\"),\"patients of blood type\"+ \"B\")\n",
    "        print (\"There are\",lst.count(\"AB\"),\"patients of blood type\"+ \"AB\")\n",
    "        print (\"There are\",lst.count(\"O\"),\"patients of blood type\"+ \"O\")\n",
    "        print (\"There are\",lst.count(\"OO\"),\"patients of blood type\"+ \"OO\")\n",
    "        break\n",
    "bldcount('bloodtype1.txt')\n"
   ]
  },
  {
   "cell_type": "markdown",
   "id": "43313fbf",
   "metadata": {},
   "source": [
    "# Question 8\n",
    "## Write a function curconv() that takes as input:\n",
    "<p>1. a currency represented using a string (e.g., 'JPY' for the Japanese Yen or\n",
    "'EUR' for the Euro)</p>\n",
    "<p>2. an amount\n",
    "and then converts and returns the amount in US dollars.</p>\n",
    "<p>>>> curconv('EUR', 100)</p>\n",
    "<p>122.96544</p>\n",
    "<p>>>> curconv('JPY', 100)</p>\n",
    "<p>1.241401</p>\n",
    "<p>The currency rates you will need are stored in file currencies.txt:</p>\n",
    "<p>AUD 1.0345157 Australian Dollar</p>\n",
    "<p>CHF 1.0237414 Swiss Franc</p>\n",
    "<p>CNY 0.1550176 Chinese Yuan</p>"
   ]
  },
  {
   "cell_type": "code",
   "execution_count": 105,
   "id": "5257d83d",
   "metadata": {},
   "outputs": [
    {
     "name": "stdout",
     "output_type": "stream",
     "text": [
      "122.96544\n",
      "1.241401\n"
     ]
    }
   ],
   "source": [
    "def curconv(x, y):\n",
    "    value = 0\n",
    "    cur = [\"AUD\",\"CHF\",\"CNY\",\"DKK\",\"EUR\",\"GBP\",\"HKD\",\"INR\",\"JPY\",\"MXN\",\"MYR\",\"NOK\",\"NZD\",\"PHP\",\"SEK\",\"SGD\",\"THB\"]\n",
    "    lst = [1.0345157,1.0237414,0.1550176,0.1651442,1.2296544,1.5550989,0.1270207,0.0177643,0.01241401,0.0751848,0.3145411,0.1677063,0.8003591,0.0233234,0.148269,0.788871,0.0313789]\n",
    "    for i in range(len(cur)):\n",
    "        if(cur[i] == x):\n",
    "            value = y * lst[i]\n",
    "            break\n",
    "    return value\n",
    "\n",
    "print(curconv(\"EUR\",100))\n",
    "print(curconv(\"JPY\",100))\n"
   ]
  },
  {
   "cell_type": "markdown",
   "id": "0559d8ac",
   "metadata": {},
   "source": [
    "# Question 9# \n",
    "<p>Each of the following will cause an exception (an error). Identify what type of\n",
    "exception each will cause.</p>\n",
    "<p>Trying to add incompatible variables, as in\n",
    "adding 6 + ‘a’</p>\n",
    "<p>Referring to the 12th item of a list that has only 10\n",
    "items</p>\n",
    "<p>Using a value that is out of range for a function’s\n",
    "input, such as calling math.sqrt(-1.0)</p>\n",
    "<p>Using an undeclared variable, such as print(x)\n",
    "when x has not been defined</p>\n",
    "<p>Trying to open a file that does not exist, such as\n",
    "mistyping the file name or looking in the wrong\n",
    "directory</p>"
   ]
  },
  {
   "cell_type": "markdown",
   "id": "e0c2b150",
   "metadata": {},
   "source": [
    "### 1. TypeError is caused\n",
    "#### print(6 + 'a')\n",
    "Error Message : TypeError: unsupported operand type(s) for +: 'int' and 'str'\n",
    "\n",
    "### 2. IndexError is caused\n",
    "#### lst = [1,2,3,4,5,6,7,8,9,10]\n",
    "#### print(lst[12])\n",
    "<br>\n",
    "Error Message : IndexError: list index out of range\n",
    "\n",
    "### 3. ValueError is caused\n",
    "#### import math\n",
    "#### print(math.sqrt(-1.0))\n",
    "<br>\n",
    "Error Message : ValueError: math domain error\n",
    "\n",
    "### 4 NameError is caused\n",
    "#### print(x)\n",
    "<br>\n",
    "Error Message : NameError: name 'x' is not defined\n",
    "\n",
    "### 5. FileNotFoundError is caused\n",
    "#### x = open('test.txt')\n",
    "#### print(x)\n",
    "<br>\n",
    "Error Message : FileNotFoundError: [Errno 2] No such file or directory: 'test.txt'\n"
   ]
  },
  {
   "cell_type": "markdown",
   "id": "319e92c1",
   "metadata": {},
   "source": [
    "# Question 10\n",
    "<p>Encryption is the process of hiding the meaning of a text by substituting letters in the\n",
    "message with other letters, according to some system. If the process is successful, no\n",
    "one but the intended recipient can understand the encrypted message. Cryptanalysis\n",
    "refers to attempts to undo the encryption, even if some details of the encryption are\n",
    "unknown (for example, if an encrypted message has been intercepted). The first step\n",
    "of cryptanalysis is often to build up a table of letter frequencies in the encrypted text.\n",
    "Assume that the string letters is already defined as\n",
    "'abcdefghijklmnopqrstuvwxyz'. Write a function called frequencies()\n",
    "that takes a string as its only parameter, and returns a list of integers, showing the\n",
    "number of times each character appears in the text. Your function may ignore any\n",
    "characters that are not in letters.</p>\n",
    "<p>>>> frequencies('The quick red fox got bored and went home.')\n",
    "[1, 1, 1, 3, 5, 1, 1, 2, 1, 0, 1, 0, 1, 2, 4, 0, 1, 2, 0, 2,\n",
    "1, 0, 1, 1, 0, 0]</p>\n",
    "<p>>>> frequencies('apple')</p>"
   ]
  },
  {
   "cell_type": "code",
   "execution_count": 106,
   "id": "6ddb6f43",
   "metadata": {},
   "outputs": [
    {
     "name": "stdout",
     "output_type": "stream",
     "text": [
      "[1, 1, 1, 3, 5, 1, 1, 2, 1, 0, 1, 0, 1, 2, 4, 0, 1, 2, 0, 3, 1, 0, 1, 1, 0, 0]\n",
      "[1, 0, 0, 0, 1, 0, 0, 0, 0, 0, 0, 1, 0, 0, 0, 2, 0, 0, 0, 0, 0, 0, 0, 0, 0, 0]\n"
     ]
    }
   ],
   "source": [
    "def frequencies(crypt):\n",
    "    string = \"abcdefghijklmnopqrstuvwxyz\"\n",
    "    frq = [0] * 26 \n",
    "\n",
    "    for i in range(26):\n",
    "        for letter in crypt:\n",
    "            if string[i] == letter.lower():\n",
    "                frq[i] += 1\n",
    "    return frq\n",
    "print(frequencies('The quick red fox got bored and went home.'))\n",
    "print(frequencies('apple'))"
   ]
  }
 ],
 "metadata": {
  "kernelspec": {
   "display_name": "Python 3 (ipykernel)",
   "language": "python",
   "name": "python3"
  },
  "language_info": {
   "codemirror_mode": {
    "name": "ipython",
    "version": 3
   },
   "file_extension": ".py",
   "mimetype": "text/x-python",
   "name": "python",
   "nbconvert_exporter": "python",
   "pygments_lexer": "ipython3",
   "version": "3.9.12"
  }
 },
 "nbformat": 4,
 "nbformat_minor": 5
}
